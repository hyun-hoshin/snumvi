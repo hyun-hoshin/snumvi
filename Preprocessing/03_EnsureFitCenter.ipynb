{
 "cells": [
  {
   "cell_type": "code",
   "execution_count": 1,
   "metadata": {
    "colab": {
     "base_uri": "https://localhost:8080/"
    },
    "id": "ZVD7911EVcWI",
    "outputId": "2783c3a4-855a-4b2b-86c0-297b7b31b9ce"
   },
   "outputs": [
    {
     "name": "stdout",
     "output_type": "stream",
     "text": [
      "Sat Apr 15 17:09:11 KST 2023\n",
      "\n",
      "+-----------------------------------------------------------------------------+\n",
      "| NVIDIA-SMI 455.32.00    Driver Version: 455.32.00    CUDA Version: 11.1     |\n",
      "|-------------------------------+----------------------+----------------------+\n",
      "| GPU  Name        Persistence-M| Bus-Id        Disp.A | Volatile Uncorr. ECC |\n",
      "| Fan  Temp  Perf  Pwr:Usage/Cap|         Memory-Usage | GPU-Util  Compute M. |\n",
      "|                               |                      |               MIG M. |\n",
      "|===============================+======================+======================|\n",
      "|   0  Tesla V100-PCIE...  On   | 00000000:14:00.0 Off |                    0 |\n",
      "| N/A   32C    P0    24W / 250W |      4MiB / 32510MiB |      0%      Default |\n",
      "|                               |                      |                  N/A |\n",
      "+-------------------------------+----------------------+----------------------+\n",
      "|   1  Tesla V100-PCIE...  On   | 00000000:15:00.0 Off |                    0 |\n",
      "| N/A   32C    P0    24W / 250W |      4MiB / 32510MiB |      0%      Default |\n",
      "|                               |                      |                  N/A |\n",
      "+-------------------------------+----------------------+----------------------+\n",
      "|   2  Tesla V100-PCIE...  On   | 00000000:39:00.0 Off |                    0 |\n",
      "| N/A   41C    P0    68W / 250W |   3795MiB / 32510MiB |     98%      Default |\n",
      "|                               |                      |                  N/A |\n",
      "+-------------------------------+----------------------+----------------------+\n",
      "|   3  Tesla V100-PCIE...  On   | 00000000:3A:00.0 Off |                    0 |\n",
      "| N/A   33C    P0    26W / 250W |      4MiB / 32510MiB |      0%      Default |\n",
      "|                               |                      |                  N/A |\n",
      "+-------------------------------+----------------------+----------------------+\n",
      "|   4  Tesla V100-PCIE...  On   | 00000000:88:00.0 Off |                    0 |\n",
      "| N/A   32C    P0    25W / 250W |      4MiB / 32510MiB |      0%      Default |\n",
      "|                               |                      |                  N/A |\n",
      "+-------------------------------+----------------------+----------------------+\n",
      "|   5  Tesla V100-PCIE...  On   | 00000000:89:00.0 Off |                    0 |\n",
      "| N/A   33C    P0    25W / 250W |      4MiB / 32510MiB |      0%      Default |\n",
      "|                               |                      |                  N/A |\n",
      "+-------------------------------+----------------------+----------------------+\n",
      "|   6  Tesla V100-PCIE...  On   | 00000000:B1:00.0 Off |                    0 |\n",
      "| N/A   31C    P0    25W / 250W |      4MiB / 32510MiB |      0%      Default |\n",
      "|                               |                      |                  N/A |\n",
      "+-------------------------------+----------------------+----------------------+\n",
      "|   7  Tesla V100-PCIE...  On   | 00000000:B2:00.0 Off |                    0 |\n",
      "| N/A   33C    P0    25W / 250W |      4MiB / 32510MiB |      0%      Default |\n",
      "|                               |                      |                  N/A |\n",
      "+-------------------------------+----------------------+----------------------+\n",
      "\n",
      "+-----------------------------------------------------------------------------+\n",
      "| Processes:                                                                  |\n",
      "|  GPU   GI   CI        PID   Type   Process name                  GPU Memory |\n",
      "|        ID   ID                                                   Usage      |\n",
      "|=============================================================================|\n",
      "|    0   N/A  N/A      7984      C   python                              0MiB |\n",
      "|    1   N/A  N/A      7984      C   python                              0MiB |\n",
      "|    2   N/A  N/A      7984      C   python                           3791MiB |\n",
      "|    3   N/A  N/A      7984      C   python                              0MiB |\n",
      "|    4   N/A  N/A      7984      C   python                              0MiB |\n",
      "|    5   N/A  N/A      7984      C   python                              0MiB |\n",
      "|    6   N/A  N/A      7984      C   python                              0MiB |\n",
      "|    7   N/A  N/A      7984      C   python                              0MiB |\n",
      "+-----------------------------------------------------------------------------+\n"
     ]
    }
   ],
   "source": [
    "!nvidia-smi"
   ]
  },
  {
   "cell_type": "code",
   "execution_count": 2,
   "metadata": {
    "colab": {
     "base_uri": "https://localhost:8080/"
    },
    "id": "pNnKTuzBgKZm",
    "outputId": "8b7c3607-768e-4222-d4c0-82806f5a1264"
   },
   "outputs": [
    {
     "name": "stdout",
     "output_type": "stream",
     "text": [
      "MONAI version: 1.1.0\n",
      "Numpy version: 1.23.5\n",
      "Pytorch version: 1.7.1+cu110\n",
      "MONAI flags: HAS_EXT = False, USE_COMPILED = False, USE_META_DICT = False\n",
      "MONAI rev id: a2ec3752f54bfc3b40e7952234fbeb5452ed63e3\n",
      "MONAI __file__: /home/aistore3/.conda/envs/snuimageseg/lib/python3.8/site-packages/monai/__init__.py\n",
      "\n",
      "Optional dependencies:\n",
      "Pytorch Ignite version: 0.4.8\n",
      "Nibabel version: 5.0.0\n",
      "scikit-image version: 0.19.3\n",
      "Pillow version: 9.4.0\n",
      "Tensorboard version: 2.11.0\n",
      "gdown version: 4.6.0\n",
      "TorchVision version: 0.8.2+cu110\n",
      "tqdm version: 4.64.1\n",
      "lmdb version: 1.4.0\n",
      "psutil version: 5.9.0\n",
      "pandas version: 1.5.2\n",
      "einops version: 0.6.0\n",
      "transformers version: 4.25.1\n",
      "mlflow version: 2.1.1\n",
      "pynrrd version: NOT INSTALLED or UNKNOWN VERSION.\n",
      "\n",
      "For details about installing the optional dependencies, please visit:\n",
      "    https://docs.monai.io/en/latest/installation.html#installing-the-recommended-dependencies\n",
      "\n"
     ]
    }
   ],
   "source": [
    "import os\n",
    "import glob\n",
    "\n",
    "import numpy as np\n",
    "import pandas as pd\n",
    "import matplotlib.pyplot as plt\n",
    "import torch\n",
    "import nibabel as nib\n",
    "\n",
    "from monai.apps import download_and_extract\n",
    "from monai.config import print_config\n",
    "from monai.utils import set_determinism\n",
    "\n",
    "print_config()\n",
    "set_determinism(0)\n",
    "\n",
    "import warnings\n",
    "warnings.filterwarnings(\"ignore\", category=DeprecationWarning) \n",
    "warnings.filterwarnings(\"ignore\", category=UserWarning) "
   ]
  },
  {
   "cell_type": "code",
   "execution_count": 8,
   "metadata": {},
   "outputs": [],
   "source": [
    "directory = \"temp\"\n",
    "if not os.path.exists(directory):\n",
    "    os.makedirs(directory)\n",
    "root_dir = tempfile.mkdtemp() if directory is None else directory\n",
    "data_dir = \"HCC\""
   ]
  },
  {
   "cell_type": "code",
   "execution_count": 12,
   "metadata": {},
   "outputs": [
    {
     "name": "stdout",
     "output_type": "stream",
     "text": [
      "246\n"
     ]
    }
   ],
   "source": [
    "black_list = ['0085263']\n",
    "all_patients = sorted(glob.glob(os.path.join(data_dir, \"*.nii.gz\")))\n",
    "patients = [x for x in all_patients if os.path.basename(x).split('.')[0] not in black_list]\n",
    "\n",
    "print(len(patients))"
   ]
  },
  {
   "cell_type": "code",
   "execution_count": 13,
   "metadata": {
    "id": "XhvAlLBlO8Kb"
   },
   "outputs": [],
   "source": [
    "def nii_loader(filename) :\n",
    "    nimg = nib.load(filename)\n",
    "    return nimg.get_fdata() , nimg.affine, nimg.header\n",
    "\n",
    "def visualize(dataset, idx=0, target_layer=10):\n",
    "    import matplotlib.pyplot as plt    \n",
    "\n",
    "    image = dataset[idx]\n",
    "    image_data, image_affine, image_header = nii_loader(image)\n",
    "    \n",
    "    print('[file path]', image)\n",
    "    print('[dimension]', image_data.shape)\n",
    "    target_image = image_data[:,:,target_layer]\n",
    "\n",
    "    plt.imshow(target_image, cmap='gray')\n",
    "    plt.show()"
   ]
  },
  {
   "cell_type": "code",
   "execution_count": 17,
   "metadata": {
    "colab": {
     "base_uri": "https://localhost:8080/",
     "height": 374
    },
    "id": "GHtMGH2MR4KF",
    "outputId": "6dd5a393-b74e-43dc-a79c-6314742a579a"
   },
   "outputs": [
    {
     "name": "stdout",
     "output_type": "stream",
     "text": [
      "[file path] HCC/0020491.nii.gz\n",
      "[dimension] (320, 320, 100)\n"
     ]
    },
    {
     "data": {
      "image/png": "[encoded data removed]",
      "text/plain": [
       "<Figure size 640x480 with 1 Axes>"
      ]
     },
     "metadata": {},
     "output_type": "display_data"
    }
   ],
   "source": [
    "visualize(patients, idx=1,  target_layer=80)"
   ]
  },
  {
   "cell_type": "code",
   "execution_count": 26,
   "metadata": {
    "colab": {
     "base_uri": "https://localhost:8080/",
     "height": 404
    },
    "id": "NoL8LbHBcfhx",
    "outputId": "2bf2b4dc-5acc-4fd7-eb4f-57e8ae21cf9a"
   },
   "outputs": [
    {
     "data": {
      "image/png": "[encoded data removed]",
      "text/plain": [
       "<Figure size 640x480 with 1 Axes>"
      ]
     },
     "metadata": {},
     "output_type": "display_data"
    },
    {
     "name": "stdout",
     "output_type": "stream",
     "text": [
      "112 184 124 69 74 12\n"
     ]
    }
   ],
   "source": [
    "sample3d = nii_loader(patients[1])[0][:,50:-50,:]\n",
    "plt.imshow(sample3d[:,:,80], cmap='gray')\n",
    "plt.show()\n",
    "\n",
    "front = end = left = right = top = bottom = 0\n",
    "    \n",
    "for i in range(sample3d.shape[0]):\n",
    "    if np.sum(sample3d[i,:,:]) > 0: break\n",
    "    front += 1\n",
    "for i in range(1, sample3d.shape[0] + 1):\n",
    "    if np.sum(sample3d[-i,:,:]) > 0: break\n",
    "    end += 1\n",
    "for j in range(sample3d.shape[1]):\n",
    "    if np.sum(sample3d[:,j,:]) > 0: break\n",
    "    left += 1\n",
    "for j in range(1, sample3d.shape[1] + 1):\n",
    "    if np.sum(sample3d[:,-j,:]) > 0: break\n",
    "    right += 1    \n",
    "for k in range(sample3d.shape[2]):\n",
    "    if np.sum(sample3d[:,:,k]) > 0: break\n",
    "    top += 1\n",
    "for k in range(1, sample3d.shape[2] + 1):\n",
    "    if np.sum(sample3d[:,:,-k]) > 0: break\n",
    "    bottom += 1\n",
    "print(front, end, left, right, top, bottom)"
   ]
  },
  {
   "cell_type": "code",
   "execution_count": 29,
   "metadata": {},
   "outputs": [],
   "source": [
    "def ensure_fit_center(filename):\n",
    "    image = nii_loader(filename)[0]\n",
    "    front = end = left = right = top = bottom = 0\n",
    "    \n",
    "    for i in range(image.shape[0]):\n",
    "        if np.sum(image[i,:,:]) > 0:\n",
    "            break\n",
    "        front += 1\n",
    "    for i in range(1, image.shape[0] + 1):\n",
    "        if np.sum(image[-i,:,:]) > 0:\n",
    "            break\n",
    "        end += 1\n",
    "    for j in range(image.shape[1]):\n",
    "        if np.sum(image[:,j,:]) > 0:\n",
    "            break\n",
    "        left += 1\n",
    "    for j in range(1, image.shape[1] + 1):\n",
    "        if np.sum(image[:,-j,:]) > 0:\n",
    "            break\n",
    "        right += 1    \n",
    "    for k in range(image.shape[2]):\n",
    "        if np.sum(image[:,:,k]) > 0:\n",
    "            break\n",
    "        top += 1\n",
    "    for k in range(1, image.shape[2] + 1):\n",
    "        if np.sum(image[:,:,-k]) > 0:\n",
    "            break\n",
    "        bottom += 1\n",
    "    \n",
    "    v_center = (front + (image.shape[0] - end))/2\n",
    "    h_center = (left + (image.shape[1] - right))/2\n",
    "    l_center = (top + (image.shape[2] - bottom))/2\n",
    "    \n",
    "    return front, end, left, right, top, bottom, v_center, h_center, l_center"
   ]
  },
  {
   "cell_type": "code",
   "execution_count": null,
   "metadata": {},
   "outputs": [
    {
     "name": "stdout",
     "output_type": "stream",
     "text": [
      "         front  end  left  right  top  bottom  v_center  h_center  l_center\n",
      "patID                                                                      \n",
      "0007739    102  199   185    117   45      45     111.5     194.0      50.0\n",
      "0020491    112  184   174    119   74      12     124.0     187.5      81.0\n",
      "0050368     80  227   180    127   71      22      86.5     186.5      74.5\n",
      "0059047    151  342   271    225   63      15     160.5     279.0      66.0\n",
      "0063193    116  191   170    137   70      23     122.5     176.5      73.5\n",
      "...        ...  ...   ...    ...  ...     ...       ...       ...       ...\n",
      "0100139     85  213   140    157   48      40      96.0     151.5      54.0\n",
      "0100140     77  255   137    116   50      30     103.0     160.5      62.0\n",
      "0100157     64  221   172    115   66      15      81.5     188.5      75.5\n",
      "0100158    182  176    78    197   73      20     195.0      90.5      78.5\n",
      "0100164    108  186   219     77   43      43     121.0     231.0      50.0\n",
      "\n",
      "[246 rows x 9 columns]\n",
      "CPU times: user 35.4 s, sys: 4.75 s, total: 40.1 s\n",
      "Wall time: 40.2 s\n"
     ]
    }
   ],
   "source": [
    "%%time\n",
    "\n",
    "results = []\n",
    "for patient in patients:\n",
    "    results.append([os.path.basename(patient).split('.')[0]] + list(ensure_fit_center(patient)))\n",
    "df = pd.DataFrame(results, columns=[\"patID\", \"front\", \"end\", \"left\", \"right\", \"top\", \"bottom\",\n",
    "                                    \"v_center\", \"h_center\", \"l_center\"]).set_index(\"patID\")\n",
    "print(df)\n",
    "df.to_excel(\"nifti_center.xlsx\")"
   ]
  }
 ],
 "metadata": {
  "accelerator": "GPU",
  "colab": {
   "collapsed_sections": [],
   "machine_shape": "hm",
   "name": "moani_bootcamp_2_2.ipynb",
   "provenance": []
  },
  "kernelspec": {
   "display_name": "Python 3 (ipykernel)",
   "language": "python",
   "name": "python3"
  },
  "language_info": {
   "codemirror_mode": {
    "name": "ipython",
    "version": 3
   },
   "file_extension": ".py",
   "mimetype": "text/x-python",
   "name": "python",
   "nbconvert_exporter": "python",
   "pygments_lexer": "ipython3",
   "version": "3.8.15"
  }
 },
 "nbformat": 4,
 "nbformat_minor": 4
}
